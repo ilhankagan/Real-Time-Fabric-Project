{
 "cells": [
  {
   "cell_type": "code",
   "execution_count": 1,
   "id": "0d5ae579-c4fd-4474-a887-16d513d13475",
   "metadata": {
    "microsoft": {
     "language": "python",
     "language_group": "synapse_pyspark"
    }
   },
   "outputs": [
    {
     "data": {
      "application/vnd.livy.statement-meta+json": {
       "execution_finish_time": "2025-05-31T13:59:21.0843901Z",
       "execution_start_time": "2025-05-31T13:59:04.0344141Z",
       "livy_statement_state": "available",
       "normalized_state": "finished",
       "parent_msg_id": "28e10815-4e9a-47ad-914a-8426dc18863f",
       "queued_time": "2025-05-31T13:58:53.7764224Z",
       "session_id": "c893b995-d93a-4fcc-8e97-0f5d647c0be7",
       "session_start_time": null,
       "spark_pool": null,
       "state": "finished",
       "statement_id": 3,
       "statement_ids": [
        3
       ]
      },
      "text/plain": [
       "StatementMeta(, c893b995-d93a-4fcc-8e97-0f5d647c0be7, 3, Finished, Available, Finished)"
      ]
     },
     "metadata": {},
     "output_type": "display_data"
    }
   ],
   "source": [
    "# 🔧 Gerekli kütüphaneleri yükle\n",
    "!pip install gdown azure-eventhub tqdm pandas --quiet\n",
    "#gdown google drivedan veri indirmek icin, tqdm progress bar"
   ]
  },
  {
   "cell_type": "code",
   "execution_count": 2,
   "id": "a16045db-154d-4818-a772-f15c96f29510",
   "metadata": {
    "microsoft": {
     "language": "python",
     "language_group": "synapse_pyspark"
    }
   },
   "outputs": [
    {
     "data": {
      "application/vnd.livy.statement-meta+json": {
       "execution_finish_time": "2025-05-31T13:59:33.7110656Z",
       "execution_start_time": "2025-05-31T13:59:32.6380045Z",
       "livy_statement_state": "available",
       "normalized_state": "finished",
       "parent_msg_id": "f8ad7eb6-4867-4d8c-8d6b-fae35e610736",
       "queued_time": "2025-05-31T13:59:32.6368726Z",
       "session_id": "c893b995-d93a-4fcc-8e97-0f5d647c0be7",
       "session_start_time": null,
       "spark_pool": null,
       "state": "finished",
       "statement_id": 4,
       "statement_ids": [
        4
       ]
      },
      "text/plain": [
       "StatementMeta(, c893b995-d93a-4fcc-8e97-0f5d647c0be7, 4, Finished, Available, Finished)"
      ]
     },
     "metadata": {},
     "output_type": "display_data"
    }
   ],
   "source": [
    "# 📦 Modülleri içe aktar\n",
    "from azure.eventhub import EventHubProducerClient, EventData\n",
    "import pandas as pd\n",
    "import json\n",
    "import os\n",
    "from tqdm import tqdm\n",
    "import zipfile"
   ]
  },
  {
   "cell_type": "code",
   "execution_count": null,
   "id": "4323469d-1dd2-4638-9760-b35dd49431f8",
   "metadata": {
    "microsoft": {
     "language": "python",
     "language_group": "synapse_pyspark"
    }
   },
   "outputs": [
    {
     "data": {
      "application/vnd.livy.statement-meta+json": {
       "execution_finish_time": "2025-05-31T14:00:07.9117245Z",
       "execution_start_time": "2025-05-31T13:59:51.1376488Z",
       "livy_statement_state": "available",
       "normalized_state": "finished",
       "parent_msg_id": "2b0b5be1-da11-469c-8453-24e6501960a1",
       "queued_time": "2025-05-31T13:59:51.136471Z",
       "session_id": "c893b995-d93a-4fcc-8e97-0f5d647c0be7",
       "session_start_time": null,
       "spark_pool": null,
       "state": "finished",
       "statement_id": 5,
       "statement_ids": [
        5
       ]
      },
      "text/plain": [
       "StatementMeta(, c893b995-d93a-4fcc-8e97-0f5d647c0be7, 5, Finished, Available, Finished)"
      ]
     },
     "metadata": {},
     "output_type": "display_data"
    },
    {
     "name": "stderr",
     "output_type": "stream",
     "text": [
      "Downloading...\n",
      "From (original): https://drive.google.com/uc?id=1MBAN2V06VwTbxE4ADBVnTz8mm6cgrkDd\n",
      "From (redirected): https://drive.google.com/uc?id=1MBAN2V06VwTbxE4ADBVnTz8mm6cgrkDd&confirm=t&uuid=f9f2367c-58b6-4342-a1af-6949a0f1f82c\n",
      "To: /mnt/var/hadoop/tmp/nm-secondary-local-dir/usercache/trusted-service-user/appcache/application_1748699470335_0001/container_1748699470335_0001_01_000001/uber_data.zip\n",
      " 99%|█████████▉| 1.78G/1.80G [00:07<00:00, 217MB/s]\n"
     ]
    }
   ],
   "source": [
    "# 📥 Google Drive'dan ZIP dosyasını indir\n",
    "import gdown\n",
    "\n",
    "file_id = \"\"\n",
    "url = f\"\"\n",
    "output = \"uber_data.zip\"  # olarak lokal dizine indirildi\n",
    "\n",
    "gdown.download(url, output, quiet=False)\n",
    "\n",
    "print(\"✅ ZIP dosyası başarıyla indirildi:\", output)"
   ]
  },
  {
   "cell_type": "code",
   "execution_count": 4,
   "id": "1e8c927c-6756-4c1f-b5bd-bbc3edd25452",
   "metadata": {
    "microsoft": {
     "language": "python",
     "language_group": "synapse_pyspark"
    }
   },
   "outputs": [
    {
     "data": {
      "application/vnd.livy.statement-meta+json": {
       "execution_finish_time": "2025-05-31T14:00:52.994416Z",
       "execution_start_time": "2025-05-31T14:00:21.436838Z",
       "livy_statement_state": "available",
       "normalized_state": "finished",
       "parent_msg_id": "a444f59e-63d6-46dd-84c2-c6d96638ff4a",
       "queued_time": "2025-05-31T14:00:21.435676Z",
       "session_id": "c893b995-d93a-4fcc-8e97-0f5d647c0be7",
       "session_start_time": null,
       "spark_pool": null,
       "state": "finished",
       "statement_id": 6,
       "statement_ids": [
        6
       ]
      },
      "text/plain": [
       "StatementMeta(, c893b995-d93a-4fcc-8e97-0f5d647c0be7, 6, Finished, Available, Finished)"
      ]
     },
     "metadata": {},
     "output_type": "display_data"
    },
    {
     "name": "stdout",
     "output_type": "stream",
     "text": [
      "📁 ZIP açıldı. Klasör içeriği:\n",
      "['trip_fare_12.csv', 'trip_fare_10.csv', 'trip_fare_9.csv', 'trip_data_10.csv', 'trip_data_9.csv', 'trip_data_12.csv']\n"
     ]
    }
   ],
   "source": [
    "# 📂 ZIP içeriğini klasöre çıkar\n",
    "import zipfile\n",
    "import os\n",
    "\n",
    "zip_path = \"uber_data.zip\"\n",
    "output_dir = \"trip_data_files\"\n",
    "\n",
    "with zipfile.ZipFile(zip_path, 'r') as zip_ref:\n",
    "    zip_ref.extractall(output_dir)  #zip icerigini yukaridaki hedefe cikardik\n",
    "\n",
    "print(\"📁 ZIP açıldı. Klasör içeriği:\")\n",
    "print(os.listdir(output_dir))"
   ]
  },
  {
   "cell_type": "code",
   "execution_count": null,
   "id": "1a3f8bc0-a820-4afc-923f-65cb012b1f1b",
   "metadata": {
    "microsoft": {
     "language": "python",
     "language_group": "synapse_pyspark"
    }
   },
   "outputs": [
    {
     "data": {
      "application/vnd.livy.statement-meta+json": {
       "execution_finish_time": "2025-05-31T17:23:19.1516479Z",
       "execution_start_time": "2025-05-31T16:53:42.159272Z",
       "livy_statement_state": "available",
       "normalized_state": "finished",
       "parent_msg_id": "d362a8fa-fc68-4b78-ad86-d827419f0b0f",
       "queued_time": "2025-05-31T16:53:42.1579551Z",
       "session_id": "c893b995-d93a-4fcc-8e97-0f5d647c0be7",
       "session_start_time": null,
       "spark_pool": null,
       "state": "finished",
       "statement_id": 12,
       "statement_ids": [
        12
       ]
      },
      "text/plain": [
       "StatementMeta(, c893b995-d93a-4fcc-8e97-0f5d647c0be7, 12, Finished, Available, Finished)"
      ]
     },
     "metadata": {},
     "output_type": "display_data"
    },
    {
     "name": "stdout",
     "output_type": "stream",
     "text": [
      "📊 Satır sayılıyor: trip_fare_12.csv\n"
     ]
    },
    {
     "name": "stderr",
     "output_type": "stream",
     "text": [
      "trip_fare_12.csv: 100%|█████████▉| 13933001/13971118 [29:29<00:04, 8140.34rows/s]\n"
     ]
    }
   ],
   "source": [
    "# 📦 Gerekli kütüphaneler\n",
    "from azure.eventhub import EventHubProducerClient, EventData\n",
    "import pandas as pd\n",
    "import json\n",
    "import time\n",
    "from tqdm import tqdm\n",
    "import os\n",
    "\n",
    "# 🔐 Yeni Connection String (data-eventstream için)\n",
    "connection_str = \"Endpoint=s\"\n",
    "\n",
    "# 📁 ZIP’ten açılmış dosyaların bulunduğu klasör\n",
    "folder = \"trip_data_files\"  # veya senin ZIP açtığın path neyse\n",
    "\n",
    "# 🎯 Gönderilecek dosya\n",
    "target_file = \"trip_fare_12.csv\"\n",
    "file_path = os.path.join(folder, target_file)\n",
    "\n",
    "# ✅ Satır sayısını hesapla (başlık satırı hariç)\n",
    "print(f\"📊 Satır sayılıyor: {target_file}\")\n",
    "with open(file_path, 'r', encoding='utf-8') as f:\n",
    "    total_rows = sum(1 for line in f) - 1\n",
    "\n",
    "print(f\"\\n🚀 Gönderim başlıyor: {target_file} ({total_rows} satır)\")\n",
    "progress = tqdm(total=total_rows, desc=target_file, unit=\"rows\")\n",
    "\n",
    "# 📨 Event gönderimi\n",
    "producer = EventHubProducerClient.from_connection_string(conn_str=connection_str) # eventhub a baglanmak icin istemci\n",
    "\n",
    "for chunk in pd.read_csv(file_path, chunksize=1000):  #veri binlik satirlar halinde okundu\n",
    "    batch = producer.create_batch() # toplu veri gonderimi\n",
    "    for _, row in chunk.iterrows():  #sistemin hatasiz ilerlemesi icin\n",
    "        try:\n",
    "            json_data = json.dumps(row.to_dict(), default=str)\n",
    "            event = EventData(json_data)\n",
    "            try:\n",
    "                batch.add(event)\n",
    "            except ValueError:\n",
    "                producer.send_batch(batch)\n",
    "                batch = producer.create_batch()\n",
    "                batch.add(event)\n",
    "        except:\n",
    "            pass\n",
    "        progress.update(1)\n",
    "\n",
    "    if batch:\n",
    "        producer.send_batch(batch)\n",
    "    time.sleep(0.01)\n",
    "\n",
    "producer.close()\n",
    "progress.close()\n",
    "\n",
    "print(f\"\\n✅ {target_file} başarıyla gönderildi.\")\n"
   ]
  },
  {
   "cell_type": "code",
   "execution_count": 1,
   "id": "d39369a9-455b-4b25-bd84-f9936ec23fa8",
   "metadata": {
    "microsoft": {
     "language": "python",
     "language_group": "synapse_pyspark"
    }
   },
   "outputs": [
    {
     "data": {
      "application/vnd.livy.statement-meta+json": {
       "execution_finish_time": "2025-06-09T15:04:55.6843394Z",
       "execution_start_time": "2025-06-09T15:04:45.318588Z",
       "livy_statement_state": "available",
       "normalized_state": "finished",
       "parent_msg_id": "8fe82a9c-2edb-483a-9d84-fcb0b2432796",
       "queued_time": "2025-06-09T15:04:39.8285699Z",
       "session_id": "9909cd70-a57b-4f50-8c95-2547668386c5",
       "session_start_time": null,
       "spark_pool": null,
       "state": "finished",
       "statement_id": 3,
       "statement_ids": [
        3
       ]
      },
      "text/plain": [
       "StatementMeta(, 9909cd70-a57b-4f50-8c95-2547668386c5, 3, Finished, Available, Finished)"
      ]
     },
     "metadata": {},
     "output_type": "display_data"
    },
    {
     "name": "stdout",
     "output_type": "stream",
     "text": [
      "Collecting azure-eventhub\n",
      "  Downloading azure_eventhub-5.15.0-py3-none-any.whl.metadata (73 kB)\n",
      "\u001b[2K     \u001b[90m━━━━━━━━━━━━━━━━━━━━━━━━━━━━━━━━━━━━━━━━\u001b[0m \u001b[32m73.1/73.1 kB\u001b[0m \u001b[31m2.4 MB/s\u001b[0m eta \u001b[36m0:00:00\u001b[0m\n",
      "\u001b[?25hRequirement already satisfied: azure-core>=1.27.0 in /home/trusted-service-user/cluster-env/trident_env/lib/python3.11/site-packages (from azure-eventhub) (1.30.2)\n",
      "Requirement already satisfied: typing-extensions>=4.0.1 in /home/trusted-service-user/cluster-env/trident_env/lib/python3.11/site-packages (from azure-eventhub) (4.9.0)\n",
      "Requirement already satisfied: requests>=2.21.0 in /home/trusted-service-user/cluster-env/trident_env/lib/python3.11/site-packages (from azure-core>=1.27.0->azure-eventhub) (2.31.0)\n",
      "Requirement already satisfied: six>=1.11.0 in /home/trusted-service-user/cluster-env/trident_env/lib/python3.11/site-packages (from azure-core>=1.27.0->azure-eventhub) (1.16.0)\n",
      "Requirement already satisfied: charset-normalizer<4,>=2 in /home/trusted-service-user/cluster-env/trident_env/lib/python3.11/site-packages (from requests>=2.21.0->azure-core>=1.27.0->azure-eventhub) (2.0.4)\n",
      "Requirement already satisfied: idna<4,>=2.5 in /home/trusted-service-user/cluster-env/trident_env/lib/python3.11/site-packages (from requests>=2.21.0->azure-core>=1.27.0->azure-eventhub) (3.4)\n",
      "Requirement already satisfied: urllib3<3,>=1.21.1 in /home/trusted-service-user/cluster-env/trident_env/lib/python3.11/site-packages (from requests>=2.21.0->azure-core>=1.27.0->azure-eventhub) (2.1.0)\n",
      "Requirement already satisfied: certifi>=2017.4.17 in /home/trusted-service-user/cluster-env/trident_env/lib/python3.11/site-packages (from requests>=2.21.0->azure-core>=1.27.0->azure-eventhub) (2024.2.2)\n",
      "Downloading azure_eventhub-5.15.0-py3-none-any.whl (327 kB)\n",
      "\u001b[2K   \u001b[90m━━━━━━━━━━━━━━━━━━━━━━━━━━━━━━━━━━━━━━━━\u001b[0m \u001b[32m327.8/327.8 kB\u001b[0m \u001b[31m16.7 MB/s\u001b[0m eta \u001b[36m0:00:00\u001b[0m\n",
      "\u001b[?25hInstalling collected packages: azure-eventhub\n",
      "Successfully installed azure-eventhub-5.15.0\n"
     ]
    }
   ],
   "source": [
    "!pip install azure-eventhub\n"
   ]
  },
  {
   "cell_type": "code",
   "execution_count": null,
   "id": "5d65075a-5221-4321-90a7-cad6cf7800d8",
   "metadata": {
    "microsoft": {
     "language": "python",
     "language_group": "synapse_pyspark"
    }
   },
   "outputs": [],
   "source": [
    "from azure.eventhub import EventHubProducerClient, EventData\n",
    "import json\n",
    "\n",
    "# Event Hub bağlantı bilgisi\n",
    "connection_str = (\n",
    "    \"Endpoint=sb://\"\n",
    "    \"SharedAccessKeyName=key_\"\n",
    "    \"SharedAccessKey=\"\n",
    "    \"EntityPath=\"\n",
    ")\n",
    "\n",
    "eventhub_name = \"\"\n",
    "\n",
    "# 10.000 satır al\n",
    "df_sample = spark.table(\"sample.sample_trip1\").limit(10000)\n",
    "json_rows = df_sample.toJSON().collect()\n",
    "\n",
    "# Event Hub producer başlat\n",
    "producer = EventHubProducerClient.from_connection_string(\n",
    "    conn_str=connection_str,\n",
    "    eventhub_name=eventhub_name\n",
    ")\n",
    "\n",
    "# Gönderim\n",
    "batch = producer.create_batch()\n",
    "for row in json_rows:\n",
    "    try:\n",
    "        batch.add(EventData(row))\n",
    "    except ValueError:\n",
    "        producer.send_batch(batch)\n",
    "        batch = producer.create_batch()\n",
    "        batch.add(EventData(row))\n",
    "\n",
    "# Son batch'i de gönder\n",
    "producer.send_batch(batch)\n",
    "producer.close()\n",
    "\n",
    "print(\"✅ İlk 10.000 satır başarıyla gönderildi.\")\n"
   ]
  },
  {
   "cell_type": "code",
   "execution_count": null,
   "id": "8fa373f8-55cf-4f22-bc30-1737bea0720d",
   "metadata": {
    "advisor": {
     "adviceMetadata": "{\"artifactId\":\"3f1c7787-3897-4b1e-862c-92326e69574f\",\"activityId\":\"9909cd70-a57b-4f50-8c95-2547668386c5\",\"applicationId\":\"application_1749481052186_0001\",\"jobGroupId\":\"4\",\"advices\":{\"warn\":1}}"
    },
    "microsoft": {
     "language": "python",
     "language_group": "synapse_pyspark"
    }
   },
   "outputs": [
    {
     "data": {
      "application/vnd.livy.statement-meta+json": {
       "execution_finish_time": "2025-06-09T15:05:16.9252413Z",
       "execution_start_time": "2025-06-09T15:05:02.3902735Z",
       "livy_statement_state": "available",
       "normalized_state": "finished",
       "parent_msg_id": "822c082c-eee6-4b20-a17c-51c672cf908c",
       "queued_time": "2025-06-09T15:05:02.3890822Z",
       "session_id": "9909cd70-a57b-4f50-8c95-2547668386c5",
       "session_start_time": null,
       "spark_pool": null,
       "state": "finished",
       "statement_id": 4,
       "statement_ids": [
        4
       ]
      },
      "text/plain": [
       "StatementMeta(, 9909cd70-a57b-4f50-8c95-2547668386c5, 4, Finished, Available, Finished)"
      ]
     },
     "metadata": {},
     "output_type": "display_data"
    },
    {
     "name": "stdout",
     "output_type": "stream",
     "text": [
      "✅ 10.001–10.500 arası 500 kayıt başarıyla gönderildi.\n"
     ]
    }
   ],
   "source": [
    "from azure.eventhub import EventHubProducerClient, EventData\n",
    "import json\n",
    "from datetime import datetime, date\n",
    "\n",
    "connection_str = (\n",
    "    \"Endpoint=sb://;\"\n",
    "    \"SharedAccessKeyName=key\"\n",
    "    \"SharedAccessKey=\"\n",
    "    \"EntityPath=\"\n",
    ")\n",
    "\n",
    "eventhub_name = \"e\"\n",
    "\n",
    "# 10.001–10.500 arasındaki veriyi al\n",
    "df_limit = spark.table(\"sample.sample_trip1\").limit(13000)\n",
    "rows = df_limit.tail(500)\n",
    "\n",
    "# 🛠️ JSON'a uygun hale getir\n",
    "def serialize_row(row):\n",
    "    def convert(v):\n",
    "        if isinstance(v, (datetime, date)):\n",
    "            return v.isoformat()\n",
    "        return v\n",
    "    return {k: convert(v) for k, v in row.asDict().items()}\n",
    "\n",
    "json_rows = [json.dumps(serialize_row(row)) for row in rows]\n",
    "\n",
    "# EventHub gönderimi\n",
    "producer = EventHubProducerClient.from_connection_string(\n",
    "    conn_str=connection_str,\n",
    "    eventhub_name=eventhub_name\n",
    ")\n",
    "\n",
    "batch = producer.create_batch()\n",
    "for row in json_rows:\n",
    "    try:\n",
    "        batch.add(EventData(row))\n",
    "    except ValueError:\n",
    "        producer.send_batch(batch)\n",
    "        batch = producer.create_batch()\n",
    "        batch.add(EventData(row))\n",
    "\n",
    "producer.send_batch(batch)\n",
    "producer.close()\n",
    "\n",
    "print(\"✅ 10.001–10.500 arası 500 kayıt başarıyla gönderildi.\")\n"
   ]
  },
  {
   "cell_type": "code",
   "execution_count": 4,
   "id": "e67afeac-cbf7-4940-a1df-7281001ac37c",
   "metadata": {
    "microsoft": {
     "language": "python",
     "language_group": "synapse_pyspark"
    }
   },
   "outputs": [
    {
     "data": {
      "application/vnd.livy.statement-meta+json": {
       "execution_finish_time": "2025-06-09T14:16:40.5013819Z",
       "execution_start_time": "2025-06-09T14:16:38.883257Z",
       "livy_statement_state": "available",
       "normalized_state": "finished",
       "parent_msg_id": "5854ec81-3a59-42dc-beac-fcecd9d6f8e1",
       "queued_time": "2025-06-09T14:16:38.8821862Z",
       "session_id": "afcf95e0-9df4-4f05-b7a9-8ce1593bbf95",
       "session_start_time": null,
       "spark_pool": null,
       "state": "finished",
       "statement_id": 6,
       "statement_ids": [
        6
       ]
      },
      "text/plain": [
       "StatementMeta(, afcf95e0-9df4-4f05-b7a9-8ce1593bbf95, 6, Finished, Available, Finished)"
      ]
     },
     "metadata": {},
     "output_type": "display_data"
    }
   ],
   "source": [
    "df_fare = spark.table(\"sample.sample_fare1\")\n"
   ]
  },
  {
   "cell_type": "code",
   "execution_count": 5,
   "id": "7d07bcc2-385d-40db-975d-681dc30c1a6e",
   "metadata": {
    "microsoft": {
     "language": "python",
     "language_group": "synapse_pyspark"
    }
   },
   "outputs": [
    {
     "data": {
      "application/vnd.livy.statement-meta+json": {
       "execution_finish_time": "2025-06-09T14:16:47.0386545Z",
       "execution_start_time": "2025-06-09T14:16:46.7228153Z",
       "livy_statement_state": "available",
       "normalized_state": "finished",
       "parent_msg_id": "fb8c346a-352d-49c4-8dcb-02b8e388d167",
       "queued_time": "2025-06-09T14:16:46.7213719Z",
       "session_id": "afcf95e0-9df4-4f05-b7a9-8ce1593bbf95",
       "session_start_time": null,
       "spark_pool": null,
       "state": "finished",
       "statement_id": 7,
       "statement_ids": [
        7
       ]
      },
      "text/plain": [
       "StatementMeta(, afcf95e0-9df4-4f05-b7a9-8ce1593bbf95, 7, Finished, Available, Finished)"
      ]
     },
     "metadata": {},
     "output_type": "display_data"
    },
    {
     "name": "stdout",
     "output_type": "stream",
     "text": [
      "root\n",
      " |-- trip_id: string (nullable = true)\n",
      " |-- medallion: string (nullable = true)\n",
      " |-- hack_license: string (nullable = true)\n",
      " |-- vendor_id: string (nullable = true)\n",
      " |-- pickup_datetime: timestamp (nullable = true)\n",
      " |-- payment_type: integer (nullable = true)\n",
      " |-- fare_amount: float (nullable = true)\n",
      " |-- surcharge: float (nullable = true)\n",
      " |-- mta_tax: float (nullable = true)\n",
      " |-- tip_amount: float (nullable = true)\n",
      " |-- tolls_amount: float (nullable = true)\n",
      " |-- total_amount: float (nullable = true)\n",
      " |-- ingest_date: date (nullable = true)\n",
      " |-- is_tip_anomaly: boolean (nullable = true)\n",
      " |-- is_fare_outlier: boolean (nullable = true)\n",
      " |-- is_tip_outlier: boolean (nullable = true)\n",
      " |-- is_total_outlier: boolean (nullable = true)\n",
      " |-- month: integer (nullable = true)\n",
      "\n"
     ]
    }
   ],
   "source": [
    "df_fare.printSchema()\n"
   ]
  }
 ],
 "metadata": {
  "dependencies": {
   "lakehouse": {
    "default_lakehouse": "afe06249-71d1-46e6-9846-92096b7e1dff",
    "default_lakehouse_name": "uber_lakehouse",
    "default_lakehouse_workspace_id": "2ac1deac-44f0-44f4-b34c-eca6513f9c28",
    "known_lakehouses": [
     {
      "id": "afe06249-71d1-46e6-9846-92096b7e1dff"
     }
    ]
   }
  },
  "kernel_info": {
   "name": "synapse_pyspark"
  },
  "kernelspec": {
   "display_name": "synapse_pyspark",
   "name": "synapse_pyspark"
  },
  "language_info": {
   "name": "python"
  },
  "microsoft": {
   "language": "python",
   "language_group": "synapse_pyspark",
   "ms_spell_check": {
    "ms_spell_check_language": "en"
   }
  },
  "nteract": {
   "version": "nteract-front-end@1.0.0"
  },
  "spark_compute": {
   "compute_id": "/trident/default",
   "session_options": {
    "conf": {
     "spark.synapse.nbs.session.timeout": "1200000"
    }
   }
  }
 },
 "nbformat": 4,
 "nbformat_minor": 5
}
